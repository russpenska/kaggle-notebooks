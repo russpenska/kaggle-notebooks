{
 "cells": [
  {
   "cell_type": "code",
   "execution_count": 1,
   "id": "98cff5a3",
   "metadata": {
    "_cell_guid": "b1076dfc-b9ad-4769-8c92-a6c4dae69d19",
    "_uuid": "8f2839f25d086af736a60e9eeb907d3b93b6e0e5",
    "execution": {
     "iopub.execute_input": "2025-03-22T16:48:56.343509Z",
     "iopub.status.busy": "2025-03-22T16:48:56.342232Z",
     "iopub.status.idle": "2025-03-22T16:48:59.132229Z",
     "shell.execute_reply": "2025-03-22T16:48:59.130884Z"
    },
    "papermill": {
     "duration": 2.799349,
     "end_time": "2025-03-22T16:48:59.135003",
     "exception": false,
     "start_time": "2025-03-22T16:48:56.335654",
     "status": "completed"
    },
    "tags": []
   },
   "outputs": [
    {
     "name": "stdout",
     "output_type": "stream",
     "text": [
      "/kaggle/input/diamond-dataset/diamonds.csv\n"
     ]
    }
   ],
   "source": [
    "# This Python 3 environment comes with many helpful analytics libraries installed\n",
    "# It is defined by the kaggle/python Docker image: https://github.com/kaggle/docker-python\n",
    "# For example, here's several helpful packages to load\n",
    "\n",
    "import numpy as np # linear algebra \n",
    "import pandas as pd # data processing, CSV file I/O (e.g. pd.read_csv)\n",
    "from sklearn.model_selection import train_test_split\n",
    "from sklearn.linear_model import LinearRegression\n",
    "from sklearn.metrics import mean_squared_error\n",
    "import matplotlib.pyplot as plt\n",
    "import random\n",
    "\n",
    "# Input data files are available in the read-only \"../input/\" directory\n",
    "# For example, running this (by clicking run or pressing Shift+Enter) will list all files under the input directory\n",
    "\n",
    "import os\n",
    "for dirname, _, filenames in os.walk('/kaggle/input'):\n",
    "    for filename in filenames:\n",
    "        print(os.path.join(dirname, filename))\n",
    "\n",
    "# You can write up to 20GB to the current directory (/kaggle/working/) that gets preserved as output when you create a version using \"Save & Run All\" \n",
    "# You can also write temporary files to /kaggle/temp/, but they won't be saved outside of the current session"
   ]
  },
  {
   "cell_type": "markdown",
   "id": "a141f46e",
   "metadata": {
    "papermill": {
     "duration": 0.005031,
     "end_time": "2025-03-22T16:48:59.144663",
     "exception": false,
     "start_time": "2025-03-22T16:48:59.139632",
     "status": "completed"
    },
    "tags": []
   },
   "source": [
    "# Data Exploration"
   ]
  },
  {
   "cell_type": "code",
   "execution_count": 2,
   "id": "2773ce97",
   "metadata": {
    "execution": {
     "iopub.execute_input": "2025-03-22T16:48:59.156996Z",
     "iopub.status.busy": "2025-03-22T16:48:59.156511Z",
     "iopub.status.idle": "2025-03-22T16:48:59.369239Z",
     "shell.execute_reply": "2025-03-22T16:48:59.367945Z"
    },
    "papermill": {
     "duration": 0.221336,
     "end_time": "2025-03-22T16:48:59.371425",
     "exception": false,
     "start_time": "2025-03-22T16:48:59.150089",
     "status": "completed"
    },
    "tags": []
   },
   "outputs": [
    {
     "data": {
      "text/html": [
       "<div>\n",
       "<style scoped>\n",
       "    .dataframe tbody tr th:only-of-type {\n",
       "        vertical-align: middle;\n",
       "    }\n",
       "\n",
       "    .dataframe tbody tr th {\n",
       "        vertical-align: top;\n",
       "    }\n",
       "\n",
       "    .dataframe thead th {\n",
       "        text-align: right;\n",
       "    }\n",
       "</style>\n",
       "<table border=\"1\" class=\"dataframe\">\n",
       "  <thead>\n",
       "    <tr style=\"text-align: right;\">\n",
       "      <th></th>\n",
       "      <th>carat</th>\n",
       "      <th>cut</th>\n",
       "      <th>color</th>\n",
       "      <th>clarity</th>\n",
       "      <th>depth</th>\n",
       "      <th>table</th>\n",
       "      <th>price</th>\n",
       "      <th>x</th>\n",
       "      <th>y</th>\n",
       "      <th>z</th>\n",
       "    </tr>\n",
       "  </thead>\n",
       "  <tbody>\n",
       "    <tr>\n",
       "      <th>1</th>\n",
       "      <td>0.23</td>\n",
       "      <td>Ideal</td>\n",
       "      <td>E</td>\n",
       "      <td>SI2</td>\n",
       "      <td>61.5</td>\n",
       "      <td>55.0</td>\n",
       "      <td>326</td>\n",
       "      <td>3.95</td>\n",
       "      <td>3.98</td>\n",
       "      <td>2.43</td>\n",
       "    </tr>\n",
       "    <tr>\n",
       "      <th>2</th>\n",
       "      <td>0.21</td>\n",
       "      <td>Premium</td>\n",
       "      <td>E</td>\n",
       "      <td>SI1</td>\n",
       "      <td>59.8</td>\n",
       "      <td>61.0</td>\n",
       "      <td>326</td>\n",
       "      <td>3.89</td>\n",
       "      <td>3.84</td>\n",
       "      <td>2.31</td>\n",
       "    </tr>\n",
       "    <tr>\n",
       "      <th>3</th>\n",
       "      <td>0.23</td>\n",
       "      <td>Good</td>\n",
       "      <td>E</td>\n",
       "      <td>VS1</td>\n",
       "      <td>56.9</td>\n",
       "      <td>65.0</td>\n",
       "      <td>327</td>\n",
       "      <td>4.05</td>\n",
       "      <td>4.07</td>\n",
       "      <td>2.31</td>\n",
       "    </tr>\n",
       "    <tr>\n",
       "      <th>4</th>\n",
       "      <td>0.29</td>\n",
       "      <td>Premium</td>\n",
       "      <td>I</td>\n",
       "      <td>VS2</td>\n",
       "      <td>62.4</td>\n",
       "      <td>58.0</td>\n",
       "      <td>334</td>\n",
       "      <td>4.20</td>\n",
       "      <td>4.23</td>\n",
       "      <td>2.63</td>\n",
       "    </tr>\n",
       "    <tr>\n",
       "      <th>5</th>\n",
       "      <td>0.31</td>\n",
       "      <td>Good</td>\n",
       "      <td>J</td>\n",
       "      <td>SI2</td>\n",
       "      <td>63.3</td>\n",
       "      <td>58.0</td>\n",
       "      <td>335</td>\n",
       "      <td>4.34</td>\n",
       "      <td>4.35</td>\n",
       "      <td>2.75</td>\n",
       "    </tr>\n",
       "  </tbody>\n",
       "</table>\n",
       "</div>"
      ],
      "text/plain": [
       "   carat      cut color clarity  depth  table  price     x     y     z\n",
       "1   0.23    Ideal     E     SI2   61.5   55.0    326  3.95  3.98  2.43\n",
       "2   0.21  Premium     E     SI1   59.8   61.0    326  3.89  3.84  2.31\n",
       "3   0.23     Good     E     VS1   56.9   65.0    327  4.05  4.07  2.31\n",
       "4   0.29  Premium     I     VS2   62.4   58.0    334  4.20  4.23  2.63\n",
       "5   0.31     Good     J     SI2   63.3   58.0    335  4.34  4.35  2.75"
      ]
     },
     "execution_count": 2,
     "metadata": {},
     "output_type": "execute_result"
    }
   ],
   "source": [
    "df = pd.read_csv(\"/kaggle/input/diamond-dataset/diamonds.csv\", index_col=0)\n",
    "\n",
    "# remove rows with missing size data\n",
    "df = df[df[\"x\"] != 0]\n",
    "df = df[df[\"y\"] != 0]\n",
    "df = df[df[\"z\"] != 0]\n",
    "\n",
    "df.head()"
   ]
  },
  {
   "cell_type": "code",
   "execution_count": 3,
   "id": "33514ce9",
   "metadata": {
    "execution": {
     "iopub.execute_input": "2025-03-22T16:48:59.381976Z",
     "iopub.status.busy": "2025-03-22T16:48:59.381644Z",
     "iopub.status.idle": "2025-03-22T16:49:00.941506Z",
     "shell.execute_reply": "2025-03-22T16:49:00.940422Z"
    },
    "papermill": {
     "duration": 1.567922,
     "end_time": "2025-03-22T16:49:00.943824",
     "exception": false,
     "start_time": "2025-03-22T16:48:59.375902",
     "status": "completed"
    },
    "tags": []
   },
   "outputs": [
    {
     "data": {
      "image/png": "[encoded data removed]",
      "text/plain": [
       "<Figure size 640x480 with 6 Axes>"
      ]
     },
     "metadata": {},
     "output_type": "display_data"
    }
   ],
   "source": [
    "columns_to_plot = ['carat', 'depth', 'table', 'x', 'y', 'z']\n",
    "\n",
    "fig, axs = plt.subplots(3,2)\n",
    "fig.tight_layout()\n",
    "\n",
    "for i in range(len(columns_to_plot)):\n",
    "    column = columns_to_plot[i]\n",
    "    ax = df.plot.scatter(x=column,\n",
    "                      y='price',\n",
    "                      c='DarkBlue',\n",
    "                      ax =axs[i // 2, i % 2])\n",
    "\n",
    "    ax.set_xlim(0, df[column].mean() + (3 * df[column].std()))\n",
    "\n",
    "plt.show()"
   ]
  },
  {
   "cell_type": "code",
   "execution_count": 4,
   "id": "e59625cf",
   "metadata": {
    "execution": {
     "iopub.execute_input": "2025-03-22T16:49:00.956059Z",
     "iopub.status.busy": "2025-03-22T16:49:00.955721Z",
     "iopub.status.idle": "2025-03-22T16:49:01.251702Z",
     "shell.execute_reply": "2025-03-22T16:49:01.250505Z"
    },
    "papermill": {
     "duration": 0.304745,
     "end_time": "2025-03-22T16:49:01.254029",
     "exception": false,
     "start_time": "2025-03-22T16:49:00.949284",
     "status": "completed"
    },
    "tags": []
   },
   "outputs": [
    {
     "data": {
      "image/png": "[encoded data removed]",
      "text/plain": [
       "<Figure size 640x480 with 1 Axes>"
      ]
     },
     "metadata": {},
     "output_type": "display_data"
    }
   ],
   "source": [
    "# x, y, and z are length, width and height in mm\n",
    "# combine into volume (of bounding box)\n",
    "df[\"volume\"] = df[\"x\"] * df[\"y\"] * df[\"z\"]\n",
    "ax = df.plot.scatter(x='volume',\n",
    "                      y='price',\n",
    "                      c='DarkBlue')\n",
    "\n",
    "\n",
    "ax.set_xlim(0,df[\"volume\"].mean() + (3 * df[\"volume\"].std()))\n",
    "plt.show()"
   ]
  },
  {
   "cell_type": "code",
   "execution_count": 5,
   "id": "320fc8eb",
   "metadata": {
    "execution": {
     "iopub.execute_input": "2025-03-22T16:49:01.267984Z",
     "iopub.status.busy": "2025-03-22T16:49:01.267604Z",
     "iopub.status.idle": "2025-03-22T16:49:02.165713Z",
     "shell.execute_reply": "2025-03-22T16:49:02.163850Z"
    },
    "papermill": {
     "duration": 0.909469,
     "end_time": "2025-03-22T16:49:02.169458",
     "exception": false,
     "start_time": "2025-03-22T16:49:01.259989",
     "status": "completed"
    },
    "tags": []
   },
   "outputs": [
    {
     "data": {
      "text/plain": [
       "<Axes: xlabel='cut', ylabel='price'>"
      ]
     },
     "execution_count": 5,
     "metadata": {},
     "output_type": "execute_result"
    },
    {
     "data": {
      "image/png": "[encoded data removed]",
      "text/plain": [
       "<Figure size 640x480 with 1 Axes>"
      ]
     },
     "metadata": {},
     "output_type": "display_data"
    }
   ],
   "source": [
    "# plotting the 'cut' against 'price' doesn't give us much information\n",
    "df.plot.scatter(x=\"cut\", y='price', c='DarkBlue')\n",
    "\n",
    "import seaborn as sns\n",
    "sns.boxplot(x='cut', y='price', data=df)"
   ]
  },
  {
   "cell_type": "code",
   "execution_count": 6,
   "id": "06fa0f8a",
   "metadata": {
    "execution": {
     "iopub.execute_input": "2025-03-22T16:49:02.187279Z",
     "iopub.status.busy": "2025-03-22T16:49:02.186877Z",
     "iopub.status.idle": "2025-03-22T16:49:02.441736Z",
     "shell.execute_reply": "2025-03-22T16:49:02.439908Z"
    },
    "papermill": {
     "duration": 0.267733,
     "end_time": "2025-03-22T16:49:02.444620",
     "exception": false,
     "start_time": "2025-03-22T16:49:02.176887",
     "status": "completed"
    },
    "tags": []
   },
   "outputs": [
    {
     "name": "stdout",
     "output_type": "stream",
     "text": [
      "[3456.9412010395395, 4579.684542815675, 3926.40350877193, 3981.6641006539194, 4357.50093225606]\n"
     ]
    },
    {
     "data": {
      "text/plain": [
       "(0.0, 4635.821709904481)"
      ]
     },
     "execution_count": 6,
     "metadata": {},
     "output_type": "execute_result"
    },
    {
     "data": {
      "image/png": "[encoded data removed]",
      "text/plain": [
       "<Figure size 640x480 with 1 Axes>"
      ]
     },
     "metadata": {},
     "output_type": "display_data"
    }
   ],
   "source": [
    "# maybe we can plot \"cut\" against average price\n",
    "\n",
    "cuts = df[\"cut\"].unique()\n",
    "mean_prices_by_cut = [None]*len(cuts)\n",
    "for i in range(len(cuts)):\n",
    "    cut = cuts[i]\n",
    "    mean_prices_by_cut[i] = df[df[\"cut\"] == cut][\"price\"].mean()\n",
    "    \n",
    "print(mean_prices_by_cut)\n",
    "\n",
    "plt.scatter(cuts, mean_prices_by_cut)\n",
    "plt.ylim(0)"
   ]
  },
  {
   "cell_type": "code",
   "execution_count": 7,
   "id": "b90921e8",
   "metadata": {
    "execution": {
     "iopub.execute_input": "2025-03-22T16:49:02.460612Z",
     "iopub.status.busy": "2025-03-22T16:49:02.460175Z",
     "iopub.status.idle": "2025-03-22T16:49:02.838402Z",
     "shell.execute_reply": "2025-03-22T16:49:02.837292Z"
    },
    "papermill": {
     "duration": 0.389136,
     "end_time": "2025-03-22T16:49:02.840901",
     "exception": false,
     "start_time": "2025-03-22T16:49:02.451765",
     "status": "completed"
    },
    "tags": []
   },
   "outputs": [
    {
     "data": {
      "image/png": "[encoded data removed]",
      "text/plain": [
       "<Figure size 640x480 with 1 Axes>"
      ]
     },
     "metadata": {},
     "output_type": "display_data"
    },
    {
     "name": "stdout",
     "output_type": "stream",
     "text": [
      "[3076.7524752475247, 5089.9739900387385, 5323.81801994302, 4480.942154736081, 3725.080205493814, 3996.8765508684864, 3168.1064363743726]\n"
     ]
    },
    {
     "data": {
      "image/png": "[encoded data removed]",
      "text/plain": [
       "<Figure size 640x480 with 1 Axes>"
      ]
     },
     "metadata": {},
     "output_type": "display_data"
    }
   ],
   "source": [
    "# same for clarity\n",
    "clarities = df[\"clarity\"].unique()\n",
    "mean_prices_by_clarity = [None]*len(clarities)\n",
    "for i in range(len(clarities)):\n",
    "    clarity = clarities[i]\n",
    "    mean_prices_by_clarity[i] = df[df[\"clarity\"] == clarity][\"price\"].mean()\n",
    "    \n",
    "\n",
    "plt.scatter(clarities, mean_prices_by_clarity)\n",
    "plt.ylim(0)\n",
    "plt.show()\n",
    "\n",
    "# and the same for color\n",
    "colors = df[\"color\"].unique()\n",
    "mean_prices_by_color = [None]*len(colors)\n",
    "for i in range(len(colors)):\n",
    "    color = colors[i]\n",
    "    mean_prices_by_color[i] = df[df[\"color\"] == color][\"price\"].mean()\n",
    "    \n",
    "print(mean_prices_by_color)\n",
    "\n",
    "plt.scatter(colors, mean_prices_by_color)\n",
    "plt.ylim(0)\n",
    "plt.show()"
   ]
  },
  {
   "cell_type": "code",
   "execution_count": 8,
   "id": "a598aa97",
   "metadata": {
    "execution": {
     "iopub.execute_input": "2025-03-22T16:49:02.857963Z",
     "iopub.status.busy": "2025-03-22T16:49:02.857614Z",
     "iopub.status.idle": "2025-03-22T16:49:03.006604Z",
     "shell.execute_reply": "2025-03-22T16:49:03.004257Z"
    },
    "papermill": {
     "duration": 0.161135,
     "end_time": "2025-03-22T16:49:03.009698",
     "exception": false,
     "start_time": "2025-03-22T16:49:02.848563",
     "status": "completed"
    },
    "tags": []
   },
   "outputs": [
    {
     "data": {
      "text/html": [
       "<div>\n",
       "<style scoped>\n",
       "    .dataframe tbody tr th:only-of-type {\n",
       "        vertical-align: middle;\n",
       "    }\n",
       "\n",
       "    .dataframe tbody tr th {\n",
       "        vertical-align: top;\n",
       "    }\n",
       "\n",
       "    .dataframe thead th {\n",
       "        text-align: right;\n",
       "    }\n",
       "</style>\n",
       "<table border=\"1\" class=\"dataframe\">\n",
       "  <thead>\n",
       "    <tr style=\"text-align: right;\">\n",
       "      <th></th>\n",
       "      <th>carat</th>\n",
       "      <th>cut</th>\n",
       "      <th>color</th>\n",
       "      <th>clarity</th>\n",
       "      <th>depth</th>\n",
       "      <th>table</th>\n",
       "      <th>price</th>\n",
       "      <th>x</th>\n",
       "      <th>y</th>\n",
       "      <th>z</th>\n",
       "      <th>...</th>\n",
       "      <th>cut_is_Very Good</th>\n",
       "      <th>cut_is_Fair</th>\n",
       "      <th>clarity_is_SI2</th>\n",
       "      <th>clarity_is_SI1</th>\n",
       "      <th>clarity_is_VS1</th>\n",
       "      <th>clarity_is_VS2</th>\n",
       "      <th>clarity_is_VVS2</th>\n",
       "      <th>clarity_is_VVS1</th>\n",
       "      <th>clarity_is_I1</th>\n",
       "      <th>clarity_is_IF</th>\n",
       "    </tr>\n",
       "  </thead>\n",
       "  <tbody>\n",
       "    <tr>\n",
       "      <th>1</th>\n",
       "      <td>0.23</td>\n",
       "      <td>Ideal</td>\n",
       "      <td>E</td>\n",
       "      <td>SI2</td>\n",
       "      <td>61.5</td>\n",
       "      <td>55.0</td>\n",
       "      <td>326</td>\n",
       "      <td>3.95</td>\n",
       "      <td>3.98</td>\n",
       "      <td>2.43</td>\n",
       "      <td>...</td>\n",
       "      <td>0</td>\n",
       "      <td>0</td>\n",
       "      <td>1</td>\n",
       "      <td>0</td>\n",
       "      <td>0</td>\n",
       "      <td>0</td>\n",
       "      <td>0</td>\n",
       "      <td>0</td>\n",
       "      <td>0</td>\n",
       "      <td>0</td>\n",
       "    </tr>\n",
       "    <tr>\n",
       "      <th>2</th>\n",
       "      <td>0.21</td>\n",
       "      <td>Premium</td>\n",
       "      <td>E</td>\n",
       "      <td>SI1</td>\n",
       "      <td>59.8</td>\n",
       "      <td>61.0</td>\n",
       "      <td>326</td>\n",
       "      <td>3.89</td>\n",
       "      <td>3.84</td>\n",
       "      <td>2.31</td>\n",
       "      <td>...</td>\n",
       "      <td>0</td>\n",
       "      <td>0</td>\n",
       "      <td>0</td>\n",
       "      <td>1</td>\n",
       "      <td>0</td>\n",
       "      <td>0</td>\n",
       "      <td>0</td>\n",
       "      <td>0</td>\n",
       "      <td>0</td>\n",
       "      <td>0</td>\n",
       "    </tr>\n",
       "    <tr>\n",
       "      <th>3</th>\n",
       "      <td>0.23</td>\n",
       "      <td>Good</td>\n",
       "      <td>E</td>\n",
       "      <td>VS1</td>\n",
       "      <td>56.9</td>\n",
       "      <td>65.0</td>\n",
       "      <td>327</td>\n",
       "      <td>4.05</td>\n",
       "      <td>4.07</td>\n",
       "      <td>2.31</td>\n",
       "      <td>...</td>\n",
       "      <td>0</td>\n",
       "      <td>0</td>\n",
       "      <td>0</td>\n",
       "      <td>0</td>\n",
       "      <td>1</td>\n",
       "      <td>0</td>\n",
       "      <td>0</td>\n",
       "      <td>0</td>\n",
       "      <td>0</td>\n",
       "      <td>0</td>\n",
       "    </tr>\n",
       "    <tr>\n",
       "      <th>4</th>\n",
       "      <td>0.29</td>\n",
       "      <td>Premium</td>\n",
       "      <td>I</td>\n",
       "      <td>VS2</td>\n",
       "      <td>62.4</td>\n",
       "      <td>58.0</td>\n",
       "      <td>334</td>\n",
       "      <td>4.20</td>\n",
       "      <td>4.23</td>\n",
       "      <td>2.63</td>\n",
       "      <td>...</td>\n",
       "      <td>0</td>\n",
       "      <td>0</td>\n",
       "      <td>0</td>\n",
       "      <td>0</td>\n",
       "      <td>0</td>\n",
       "      <td>1</td>\n",
       "      <td>0</td>\n",
       "      <td>0</td>\n",
       "      <td>0</td>\n",
       "      <td>0</td>\n",
       "    </tr>\n",
       "    <tr>\n",
       "      <th>5</th>\n",
       "      <td>0.31</td>\n",
       "      <td>Good</td>\n",
       "      <td>J</td>\n",
       "      <td>SI2</td>\n",
       "      <td>63.3</td>\n",
       "      <td>58.0</td>\n",
       "      <td>335</td>\n",
       "      <td>4.34</td>\n",
       "      <td>4.35</td>\n",
       "      <td>2.75</td>\n",
       "      <td>...</td>\n",
       "      <td>0</td>\n",
       "      <td>0</td>\n",
       "      <td>1</td>\n",
       "      <td>0</td>\n",
       "      <td>0</td>\n",
       "      <td>0</td>\n",
       "      <td>0</td>\n",
       "      <td>0</td>\n",
       "      <td>0</td>\n",
       "      <td>0</td>\n",
       "    </tr>\n",
       "  </tbody>\n",
       "</table>\n",
       "<p>5 rows × 31 columns</p>\n",
       "</div>"
      ],
      "text/plain": [
       "   carat      cut color clarity  depth  table  price     x     y     z  ...  \\\n",
       "1   0.23    Ideal     E     SI2   61.5   55.0    326  3.95  3.98  2.43  ...   \n",
       "2   0.21  Premium     E     SI1   59.8   61.0    326  3.89  3.84  2.31  ...   \n",
       "3   0.23     Good     E     VS1   56.9   65.0    327  4.05  4.07  2.31  ...   \n",
       "4   0.29  Premium     I     VS2   62.4   58.0    334  4.20  4.23  2.63  ...   \n",
       "5   0.31     Good     J     SI2   63.3   58.0    335  4.34  4.35  2.75  ...   \n",
       "\n",
       "   cut_is_Very Good  cut_is_Fair  clarity_is_SI2  clarity_is_SI1  \\\n",
       "1                 0            0               1               0   \n",
       "2                 0            0               0               1   \n",
       "3                 0            0               0               0   \n",
       "4                 0            0               0               0   \n",
       "5                 0            0               1               0   \n",
       "\n",
       "   clarity_is_VS1  clarity_is_VS2  clarity_is_VVS2  clarity_is_VVS1  \\\n",
       "1               0               0                0                0   \n",
       "2               0               0                0                0   \n",
       "3               1               0                0                0   \n",
       "4               0               1                0                0   \n",
       "5               0               0                0                0   \n",
       "\n",
       "   clarity_is_I1  clarity_is_IF  \n",
       "1              0              0  \n",
       "2              0              0  \n",
       "3              0              0  \n",
       "4              0              0  \n",
       "5              0              0  \n",
       "\n",
       "[5 rows x 31 columns]"
      ]
     },
     "execution_count": 8,
     "metadata": {},
     "output_type": "execute_result"
    }
   ],
   "source": [
    "# one hot encoding\n",
    "color_codes = df[\"color\"].unique()\n",
    "for color_code in color_codes:\n",
    "    col_name = \"color_is_\" + color_code\n",
    "    df[col_name] = (df[\"color\"] == color_code).astype(int)\n",
    "    \n",
    "cuts = df[\"cut\"].unique()\n",
    "for cut in cuts:\n",
    "    col_name = \"cut_is_\" + cut\n",
    "    df[col_name] = (df[\"cut\"] == cut).astype(int)\n",
    "    \n",
    "clarities = df[\"clarity\"].unique()\n",
    "for clarity in clarities:\n",
    "    col_name = \"clarity_is_\" + clarity\n",
    "    df[col_name] = (df[\"clarity\"] == clarity).astype(int)\n",
    "    \n",
    "df.head()"
   ]
  },
  {
   "cell_type": "markdown",
   "id": "662113d3",
   "metadata": {
    "papermill": {
     "duration": 0.007656,
     "end_time": "2025-03-22T16:49:03.025672",
     "exception": false,
     "start_time": "2025-03-22T16:49:03.018016",
     "status": "completed"
    },
    "tags": []
   },
   "source": [
    "# Maching Learning"
   ]
  },
  {
   "cell_type": "code",
   "execution_count": 9,
   "id": "1c0d3e64",
   "metadata": {
    "execution": {
     "iopub.execute_input": "2025-03-22T16:49:03.045358Z",
     "iopub.status.busy": "2025-03-22T16:49:03.044974Z",
     "iopub.status.idle": "2025-03-22T16:49:03.219853Z",
     "shell.execute_reply": "2025-03-22T16:49:03.218536Z"
    },
    "papermill": {
     "duration": 0.188489,
     "end_time": "2025-03-22T16:49:03.222664",
     "exception": false,
     "start_time": "2025-03-22T16:49:03.034175",
     "status": "completed"
    },
    "tags": []
   },
   "outputs": [
    {
     "data": {
      "text/html": [
       "<div>\n",
       "<style scoped>\n",
       "    .dataframe tbody tr th:only-of-type {\n",
       "        vertical-align: middle;\n",
       "    }\n",
       "\n",
       "    .dataframe tbody tr th {\n",
       "        vertical-align: top;\n",
       "    }\n",
       "\n",
       "    .dataframe thead th {\n",
       "        text-align: right;\n",
       "    }\n",
       "</style>\n",
       "<table border=\"1\" class=\"dataframe\">\n",
       "  <thead>\n",
       "    <tr style=\"text-align: right;\">\n",
       "      <th></th>\n",
       "      <th>carat</th>\n",
       "      <th>clarity_is_I1</th>\n",
       "      <th>clarity_is_IF</th>\n",
       "      <th>clarity_is_SI1</th>\n",
       "      <th>clarity_is_SI2</th>\n",
       "      <th>clarity_is_VS1</th>\n",
       "      <th>clarity_is_VS2</th>\n",
       "      <th>clarity_is_VVS1</th>\n",
       "      <th>clarity_is_VVS2</th>\n",
       "      <th>color_is_D</th>\n",
       "      <th>...</th>\n",
       "      <th>color_is_I</th>\n",
       "      <th>color_is_J</th>\n",
       "      <th>cut_is_Fair</th>\n",
       "      <th>cut_is_Good</th>\n",
       "      <th>cut_is_Ideal</th>\n",
       "      <th>cut_is_Premium</th>\n",
       "      <th>cut_is_Very Good</th>\n",
       "      <th>depth</th>\n",
       "      <th>table</th>\n",
       "      <th>volume</th>\n",
       "    </tr>\n",
       "  </thead>\n",
       "  <tbody>\n",
       "    <tr>\n",
       "      <th>count</th>\n",
       "      <td>53920.000000</td>\n",
       "      <td>53920.000000</td>\n",
       "      <td>53920.000000</td>\n",
       "      <td>53920.000000</td>\n",
       "      <td>53920.000000</td>\n",
       "      <td>53920.000000</td>\n",
       "      <td>53920.000000</td>\n",
       "      <td>53920.000000</td>\n",
       "      <td>53920.000000</td>\n",
       "      <td>53920.000000</td>\n",
       "      <td>...</td>\n",
       "      <td>53920.000000</td>\n",
       "      <td>53920.000000</td>\n",
       "      <td>53920.000000</td>\n",
       "      <td>53920.000000</td>\n",
       "      <td>53920.000000</td>\n",
       "      <td>53920.000000</td>\n",
       "      <td>53920.000000</td>\n",
       "      <td>53920.000000</td>\n",
       "      <td>53920.000000</td>\n",
       "      <td>53920.000000</td>\n",
       "    </tr>\n",
       "    <tr>\n",
       "      <th>mean</th>\n",
       "      <td>0.797698</td>\n",
       "      <td>0.013687</td>\n",
       "      <td>0.033197</td>\n",
       "      <td>0.242266</td>\n",
       "      <td>0.170345</td>\n",
       "      <td>0.151521</td>\n",
       "      <td>0.227263</td>\n",
       "      <td>0.067767</td>\n",
       "      <td>0.093954</td>\n",
       "      <td>0.125631</td>\n",
       "      <td>...</td>\n",
       "      <td>0.100538</td>\n",
       "      <td>0.052077</td>\n",
       "      <td>0.029841</td>\n",
       "      <td>0.090912</td>\n",
       "      <td>0.399629</td>\n",
       "      <td>0.255564</td>\n",
       "      <td>0.224054</td>\n",
       "      <td>61.749514</td>\n",
       "      <td>57.456834</td>\n",
       "      <td>129.897567</td>\n",
       "    </tr>\n",
       "    <tr>\n",
       "      <th>std</th>\n",
       "      <td>0.473795</td>\n",
       "      <td>0.116189</td>\n",
       "      <td>0.179153</td>\n",
       "      <td>0.428459</td>\n",
       "      <td>0.375939</td>\n",
       "      <td>0.358559</td>\n",
       "      <td>0.419068</td>\n",
       "      <td>0.251348</td>\n",
       "      <td>0.291767</td>\n",
       "      <td>0.331436</td>\n",
       "      <td>...</td>\n",
       "      <td>0.300719</td>\n",
       "      <td>0.222185</td>\n",
       "      <td>0.170149</td>\n",
       "      <td>0.287487</td>\n",
       "      <td>0.489827</td>\n",
       "      <td>0.436182</td>\n",
       "      <td>0.416962</td>\n",
       "      <td>1.432331</td>\n",
       "      <td>2.234064</td>\n",
       "      <td>78.219789</td>\n",
       "    </tr>\n",
       "    <tr>\n",
       "      <th>min</th>\n",
       "      <td>0.200000</td>\n",
       "      <td>0.000000</td>\n",
       "      <td>0.000000</td>\n",
       "      <td>0.000000</td>\n",
       "      <td>0.000000</td>\n",
       "      <td>0.000000</td>\n",
       "      <td>0.000000</td>\n",
       "      <td>0.000000</td>\n",
       "      <td>0.000000</td>\n",
       "      <td>0.000000</td>\n",
       "      <td>...</td>\n",
       "      <td>0.000000</td>\n",
       "      <td>0.000000</td>\n",
       "      <td>0.000000</td>\n",
       "      <td>0.000000</td>\n",
       "      <td>0.000000</td>\n",
       "      <td>0.000000</td>\n",
       "      <td>0.000000</td>\n",
       "      <td>43.000000</td>\n",
       "      <td>43.000000</td>\n",
       "      <td>31.707984</td>\n",
       "    </tr>\n",
       "    <tr>\n",
       "      <th>25%</th>\n",
       "      <td>0.400000</td>\n",
       "      <td>0.000000</td>\n",
       "      <td>0.000000</td>\n",
       "      <td>0.000000</td>\n",
       "      <td>0.000000</td>\n",
       "      <td>0.000000</td>\n",
       "      <td>0.000000</td>\n",
       "      <td>0.000000</td>\n",
       "      <td>0.000000</td>\n",
       "      <td>0.000000</td>\n",
       "      <td>...</td>\n",
       "      <td>0.000000</td>\n",
       "      <td>0.000000</td>\n",
       "      <td>0.000000</td>\n",
       "      <td>0.000000</td>\n",
       "      <td>0.000000</td>\n",
       "      <td>0.000000</td>\n",
       "      <td>0.000000</td>\n",
       "      <td>61.000000</td>\n",
       "      <td>56.000000</td>\n",
       "      <td>65.189759</td>\n",
       "    </tr>\n",
       "    <tr>\n",
       "      <th>50%</th>\n",
       "      <td>0.700000</td>\n",
       "      <td>0.000000</td>\n",
       "      <td>0.000000</td>\n",
       "      <td>0.000000</td>\n",
       "      <td>0.000000</td>\n",
       "      <td>0.000000</td>\n",
       "      <td>0.000000</td>\n",
       "      <td>0.000000</td>\n",
       "      <td>0.000000</td>\n",
       "      <td>0.000000</td>\n",
       "      <td>...</td>\n",
       "      <td>0.000000</td>\n",
       "      <td>0.000000</td>\n",
       "      <td>0.000000</td>\n",
       "      <td>0.000000</td>\n",
       "      <td>0.000000</td>\n",
       "      <td>0.000000</td>\n",
       "      <td>0.000000</td>\n",
       "      <td>61.800000</td>\n",
       "      <td>57.000000</td>\n",
       "      <td>114.840180</td>\n",
       "    </tr>\n",
       "    <tr>\n",
       "      <th>75%</th>\n",
       "      <td>1.040000</td>\n",
       "      <td>0.000000</td>\n",
       "      <td>0.000000</td>\n",
       "      <td>0.000000</td>\n",
       "      <td>0.000000</td>\n",
       "      <td>0.000000</td>\n",
       "      <td>0.000000</td>\n",
       "      <td>0.000000</td>\n",
       "      <td>0.000000</td>\n",
       "      <td>0.000000</td>\n",
       "      <td>...</td>\n",
       "      <td>0.000000</td>\n",
       "      <td>0.000000</td>\n",
       "      <td>0.000000</td>\n",
       "      <td>0.000000</td>\n",
       "      <td>1.000000</td>\n",
       "      <td>1.000000</td>\n",
       "      <td>0.000000</td>\n",
       "      <td>62.500000</td>\n",
       "      <td>59.000000</td>\n",
       "      <td>170.846415</td>\n",
       "    </tr>\n",
       "    <tr>\n",
       "      <th>max</th>\n",
       "      <td>5.010000</td>\n",
       "      <td>1.000000</td>\n",
       "      <td>1.000000</td>\n",
       "      <td>1.000000</td>\n",
       "      <td>1.000000</td>\n",
       "      <td>1.000000</td>\n",
       "      <td>1.000000</td>\n",
       "      <td>1.000000</td>\n",
       "      <td>1.000000</td>\n",
       "      <td>1.000000</td>\n",
       "      <td>...</td>\n",
       "      <td>1.000000</td>\n",
       "      <td>1.000000</td>\n",
       "      <td>1.000000</td>\n",
       "      <td>1.000000</td>\n",
       "      <td>1.000000</td>\n",
       "      <td>1.000000</td>\n",
       "      <td>1.000000</td>\n",
       "      <td>79.000000</td>\n",
       "      <td>95.000000</td>\n",
       "      <td>3840.598060</td>\n",
       "    </tr>\n",
       "  </tbody>\n",
       "</table>\n",
       "<p>8 rows × 24 columns</p>\n",
       "</div>"
      ],
      "text/plain": [
       "              carat  clarity_is_I1  clarity_is_IF  clarity_is_SI1  \\\n",
       "count  53920.000000   53920.000000   53920.000000    53920.000000   \n",
       "mean       0.797698       0.013687       0.033197        0.242266   \n",
       "std        0.473795       0.116189       0.179153        0.428459   \n",
       "min        0.200000       0.000000       0.000000        0.000000   \n",
       "25%        0.400000       0.000000       0.000000        0.000000   \n",
       "50%        0.700000       0.000000       0.000000        0.000000   \n",
       "75%        1.040000       0.000000       0.000000        0.000000   \n",
       "max        5.010000       1.000000       1.000000        1.000000   \n",
       "\n",
       "       clarity_is_SI2  clarity_is_VS1  clarity_is_VS2  clarity_is_VVS1  \\\n",
       "count    53920.000000    53920.000000    53920.000000     53920.000000   \n",
       "mean         0.170345        0.151521        0.227263         0.067767   \n",
       "std          0.375939        0.358559        0.419068         0.251348   \n",
       "min          0.000000        0.000000        0.000000         0.000000   \n",
       "25%          0.000000        0.000000        0.000000         0.000000   \n",
       "50%          0.000000        0.000000        0.000000         0.000000   \n",
       "75%          0.000000        0.000000        0.000000         0.000000   \n",
       "max          1.000000        1.000000        1.000000         1.000000   \n",
       "\n",
       "       clarity_is_VVS2    color_is_D  ...    color_is_I    color_is_J  \\\n",
       "count     53920.000000  53920.000000  ...  53920.000000  53920.000000   \n",
       "mean          0.093954      0.125631  ...      0.100538      0.052077   \n",
       "std           0.291767      0.331436  ...      0.300719      0.222185   \n",
       "min           0.000000      0.000000  ...      0.000000      0.000000   \n",
       "25%           0.000000      0.000000  ...      0.000000      0.000000   \n",
       "50%           0.000000      0.000000  ...      0.000000      0.000000   \n",
       "75%           0.000000      0.000000  ...      0.000000      0.000000   \n",
       "max           1.000000      1.000000  ...      1.000000      1.000000   \n",
       "\n",
       "        cut_is_Fair   cut_is_Good  cut_is_Ideal  cut_is_Premium  \\\n",
       "count  53920.000000  53920.000000  53920.000000    53920.000000   \n",
       "mean       0.029841      0.090912      0.399629        0.255564   \n",
       "std        0.170149      0.287487      0.489827        0.436182   \n",
       "min        0.000000      0.000000      0.000000        0.000000   \n",
       "25%        0.000000      0.000000      0.000000        0.000000   \n",
       "50%        0.000000      0.000000      0.000000        0.000000   \n",
       "75%        0.000000      0.000000      1.000000        1.000000   \n",
       "max        1.000000      1.000000      1.000000        1.000000   \n",
       "\n",
       "       cut_is_Very Good         depth         table        volume  \n",
       "count      53920.000000  53920.000000  53920.000000  53920.000000  \n",
       "mean           0.224054     61.749514     57.456834    129.897567  \n",
       "std            0.416962      1.432331      2.234064     78.219789  \n",
       "min            0.000000     43.000000     43.000000     31.707984  \n",
       "25%            0.000000     61.000000     56.000000     65.189759  \n",
       "50%            0.000000     61.800000     57.000000    114.840180  \n",
       "75%            0.000000     62.500000     59.000000    170.846415  \n",
       "max            1.000000     79.000000     95.000000   3840.598060  \n",
       "\n",
       "[8 rows x 24 columns]"
      ]
     },
     "execution_count": 9,
     "metadata": {},
     "output_type": "execute_result"
    }
   ],
   "source": [
    "X = df[df.columns.difference([\"price\", \"cut\", \"clarity\", \"color\", \"x\", \"y\", \"z\"])]\n",
    "y = df[\"price\"]\n",
    "\n",
    "X_train, X_test, y_train, y_test = train_test_split(X, y, test_size=0.2)\n",
    "X.describe()"
   ]
  },
  {
   "cell_type": "code",
   "execution_count": 10,
   "id": "8de48d47",
   "metadata": {
    "execution": {
     "iopub.execute_input": "2025-03-22T16:49:03.244784Z",
     "iopub.status.busy": "2025-03-22T16:49:03.244388Z",
     "iopub.status.idle": "2025-03-22T16:49:03.301819Z",
     "shell.execute_reply": "2025-03-22T16:49:03.300541Z"
    },
    "papermill": {
     "duration": 0.07236,
     "end_time": "2025-03-22T16:49:03.304635",
     "exception": false,
     "start_time": "2025-03-22T16:49:03.232275",
     "status": "completed"
    },
    "tags": []
   },
   "outputs": [],
   "source": [
    "from sklearn.preprocessing import StandardScaler, RobustScaler\n",
    "\n",
    "#scaler = StandardScaler()\n",
    "scaler = RobustScaler()\n",
    "X_train = scaler.fit_transform(X_train)\n",
    "X_test = scaler.transform(X_test)"
   ]
  },
  {
   "cell_type": "code",
   "execution_count": 11,
   "id": "7d79d6bc",
   "metadata": {
    "execution": {
     "iopub.execute_input": "2025-03-22T16:49:03.325007Z",
     "iopub.status.busy": "2025-03-22T16:49:03.323870Z",
     "iopub.status.idle": "2025-03-22T16:49:03.410655Z",
     "shell.execute_reply": "2025-03-22T16:49:03.406540Z"
    },
    "papermill": {
     "duration": 0.106034,
     "end_time": "2025-03-22T16:49:03.419218",
     "exception": false,
     "start_time": "2025-03-22T16:49:03.313184",
     "status": "completed"
    },
    "tags": []
   },
   "outputs": [
    {
     "name": "stdout",
     "output_type": "stream",
     "text": [
      "train_score: 0.9153070630458103\n",
      "test_score: 0.9189471992943568\n"
     ]
    }
   ],
   "source": [
    "reg = LinearRegression().fit(X_train, y_train)\n",
    "\n",
    "train_score = reg.score(X_train, y_train)\n",
    "test_score = reg.score(X_test, y_test)\n",
    "\n",
    "print(\"train_score:\", train_score)\n",
    "print(\"test_score:\", test_score)"
   ]
  },
  {
   "cell_type": "code",
   "execution_count": 12,
   "id": "0ecc00f1",
   "metadata": {
    "execution": {
     "iopub.execute_input": "2025-03-22T16:49:03.488064Z",
     "iopub.status.busy": "2025-03-22T16:49:03.487569Z",
     "iopub.status.idle": "2025-03-22T16:49:03.537677Z",
     "shell.execute_reply": "2025-03-22T16:49:03.536529Z"
    },
    "papermill": {
     "duration": 0.090348,
     "end_time": "2025-03-22T16:49:03.542283",
     "exception": false,
     "start_time": "2025-03-22T16:49:03.451935",
     "status": "completed"
    },
    "tags": []
   },
   "outputs": [
    {
     "name": "stdout",
     "output_type": "stream",
     "text": [
      "Testing random index 1803\n",
      "y: 3053\n",
      "y_predicted: 3893.0390505794567\n"
     ]
    },
    {
     "data": {
      "text/plain": [
       "1297541.9468956892"
      ]
     },
     "execution_count": 12,
     "metadata": {},
     "output_type": "execute_result"
    }
   ],
   "source": [
    "test_index = random.randrange(X.shape[0])\n",
    "\n",
    "print(\"Testing random index \" + str(test_index))\n",
    "\n",
    "x_random = scaler.transform(X)[test_index]\n",
    "y_random = y[test_index]\n",
    "\n",
    "print(\"y:\", y_random)\n",
    "print(\"y_predicted:\", reg.predict([x_random])[0])\n",
    "\n",
    "y_predictions = reg.predict(X_test)\n",
    "mean_squared_error(y_test, y_predictions)"
   ]
  },
  {
   "cell_type": "code",
   "execution_count": 13,
   "id": "9c2a78e2",
   "metadata": {
    "execution": {
     "iopub.execute_input": "2025-03-22T16:49:03.579573Z",
     "iopub.status.busy": "2025-03-22T16:49:03.576369Z",
     "iopub.status.idle": "2025-03-22T16:49:03.603686Z",
     "shell.execute_reply": "2025-03-22T16:49:03.602533Z"
    },
    "papermill": {
     "duration": 0.049565,
     "end_time": "2025-03-22T16:49:03.607207",
     "exception": false,
     "start_time": "2025-03-22T16:49:03.557642",
     "status": "completed"
    },
    "tags": []
   },
   "outputs": [
    {
     "data": {
      "text/html": [
       "<div>\n",
       "<style scoped>\n",
       "    .dataframe tbody tr th:only-of-type {\n",
       "        vertical-align: middle;\n",
       "    }\n",
       "\n",
       "    .dataframe tbody tr th {\n",
       "        vertical-align: top;\n",
       "    }\n",
       "\n",
       "    .dataframe thead th {\n",
       "        text-align: right;\n",
       "    }\n",
       "</style>\n",
       "<table border=\"1\" class=\"dataframe\">\n",
       "  <thead>\n",
       "    <tr style=\"text-align: right;\">\n",
       "      <th></th>\n",
       "      <th>0</th>\n",
       "      <th>0</th>\n",
       "    </tr>\n",
       "  </thead>\n",
       "  <tbody>\n",
       "    <tr>\n",
       "      <th>0</th>\n",
       "      <td>carat</td>\n",
       "      <td>5605.244336</td>\n",
       "    </tr>\n",
       "    <tr>\n",
       "      <th>1</th>\n",
       "      <td>clarity_is_I1</td>\n",
       "      <td>-3737.221202</td>\n",
       "    </tr>\n",
       "    <tr>\n",
       "      <th>2</th>\n",
       "      <td>clarity_is_IF</td>\n",
       "      <td>1603.580019</td>\n",
       "    </tr>\n",
       "    <tr>\n",
       "      <th>3</th>\n",
       "      <td>clarity_is_SI1</td>\n",
       "      <td>-231.296640</td>\n",
       "    </tr>\n",
       "    <tr>\n",
       "      <th>4</th>\n",
       "      <td>clarity_is_SI2</td>\n",
       "      <td>-1186.953564</td>\n",
       "    </tr>\n",
       "    <tr>\n",
       "      <th>5</th>\n",
       "      <td>clarity_is_VS1</td>\n",
       "      <td>725.446003</td>\n",
       "    </tr>\n",
       "    <tr>\n",
       "      <th>6</th>\n",
       "      <td>clarity_is_VS2</td>\n",
       "      <td>409.475337</td>\n",
       "    </tr>\n",
       "    <tr>\n",
       "      <th>7</th>\n",
       "      <td>clarity_is_VVS1</td>\n",
       "      <td>1264.966382</td>\n",
       "    </tr>\n",
       "    <tr>\n",
       "      <th>8</th>\n",
       "      <td>clarity_is_VVS2</td>\n",
       "      <td>1152.003666</td>\n",
       "    </tr>\n",
       "    <tr>\n",
       "      <th>9</th>\n",
       "      <td>color_is_D</td>\n",
       "      <td>824.191862</td>\n",
       "    </tr>\n",
       "    <tr>\n",
       "      <th>10</th>\n",
       "      <td>color_is_E</td>\n",
       "      <td>610.396858</td>\n",
       "    </tr>\n",
       "    <tr>\n",
       "      <th>11</th>\n",
       "      <td>color_is_F</td>\n",
       "      <td>526.612202</td>\n",
       "    </tr>\n",
       "    <tr>\n",
       "      <th>12</th>\n",
       "      <td>color_is_G</td>\n",
       "      <td>312.712839</td>\n",
       "    </tr>\n",
       "    <tr>\n",
       "      <th>13</th>\n",
       "      <td>color_is_H</td>\n",
       "      <td>-149.625251</td>\n",
       "    </tr>\n",
       "    <tr>\n",
       "      <th>14</th>\n",
       "      <td>color_is_I</td>\n",
       "      <td>-610.068199</td>\n",
       "    </tr>\n",
       "    <tr>\n",
       "      <th>15</th>\n",
       "      <td>color_is_J</td>\n",
       "      <td>-1514.220311</td>\n",
       "    </tr>\n",
       "    <tr>\n",
       "      <th>16</th>\n",
       "      <td>cut_is_Fair</td>\n",
       "      <td>-623.978087</td>\n",
       "    </tr>\n",
       "    <tr>\n",
       "      <th>17</th>\n",
       "      <td>cut_is_Good</td>\n",
       "      <td>0.400615</td>\n",
       "    </tr>\n",
       "    <tr>\n",
       "      <th>18</th>\n",
       "      <td>cut_is_Ideal</td>\n",
       "      <td>259.865050</td>\n",
       "    </tr>\n",
       "    <tr>\n",
       "      <th>19</th>\n",
       "      <td>cut_is_Premium</td>\n",
       "      <td>195.004473</td>\n",
       "    </tr>\n",
       "    <tr>\n",
       "      <th>20</th>\n",
       "      <td>cut_is_Very Good</td>\n",
       "      <td>168.707949</td>\n",
       "    </tr>\n",
       "    <tr>\n",
       "      <th>21</th>\n",
       "      <td>depth</td>\n",
       "      <td>-30.364081</td>\n",
       "    </tr>\n",
       "    <tr>\n",
       "      <th>22</th>\n",
       "      <td>table</td>\n",
       "      <td>-68.878731</td>\n",
       "    </tr>\n",
       "    <tr>\n",
       "      <th>23</th>\n",
       "      <td>volume</td>\n",
       "      <td>84.798112</td>\n",
       "    </tr>\n",
       "  </tbody>\n",
       "</table>\n",
       "</div>"
      ],
      "text/plain": [
       "                   0            0\n",
       "0              carat  5605.244336\n",
       "1      clarity_is_I1 -3737.221202\n",
       "2      clarity_is_IF  1603.580019\n",
       "3     clarity_is_SI1  -231.296640\n",
       "4     clarity_is_SI2 -1186.953564\n",
       "5     clarity_is_VS1   725.446003\n",
       "6     clarity_is_VS2   409.475337\n",
       "7    clarity_is_VVS1  1264.966382\n",
       "8    clarity_is_VVS2  1152.003666\n",
       "9         color_is_D   824.191862\n",
       "10        color_is_E   610.396858\n",
       "11        color_is_F   526.612202\n",
       "12        color_is_G   312.712839\n",
       "13        color_is_H  -149.625251\n",
       "14        color_is_I  -610.068199\n",
       "15        color_is_J -1514.220311\n",
       "16       cut_is_Fair  -623.978087\n",
       "17       cut_is_Good     0.400615\n",
       "18      cut_is_Ideal   259.865050\n",
       "19    cut_is_Premium   195.004473\n",
       "20  cut_is_Very Good   168.707949\n",
       "21             depth   -30.364081\n",
       "22             table   -68.878731\n",
       "23            volume    84.798112"
      ]
     },
     "execution_count": 13,
     "metadata": {},
     "output_type": "execute_result"
    }
   ],
   "source": [
    "pd.concat([pd.DataFrame(X.columns),pd.DataFrame(np.transpose(reg.coef_))], axis = 1)"
   ]
  },
  {
   "cell_type": "code",
   "execution_count": 14,
   "id": "11956480",
   "metadata": {
    "execution": {
     "iopub.execute_input": "2025-03-22T16:49:03.642397Z",
     "iopub.status.busy": "2025-03-22T16:49:03.641366Z",
     "iopub.status.idle": "2025-03-22T16:50:14.946622Z",
     "shell.execute_reply": "2025-03-22T16:50:14.945343Z"
    },
    "papermill": {
     "duration": 71.32605,
     "end_time": "2025-03-22T16:50:14.949158",
     "exception": false,
     "start_time": "2025-03-22T16:49:03.623108",
     "status": "completed"
    },
    "tags": []
   },
   "outputs": [
    {
     "name": "stderr",
     "output_type": "stream",
     "text": [
      "2025-03-22 16:49:06.249329: E external/local_xla/xla/stream_executor/cuda/cuda_dnn.cc:9261] Unable to register cuDNN factory: Attempting to register factory for plugin cuDNN when one has already been registered\n",
      "2025-03-22 16:49:06.249501: E external/local_xla/xla/stream_executor/cuda/cuda_fft.cc:607] Unable to register cuFFT factory: Attempting to register factory for plugin cuFFT when one has already been registered\n",
      "2025-03-22 16:49:06.440847: E external/local_xla/xla/stream_executor/cuda/cuda_blas.cc:1515] Unable to register cuBLAS factory: Attempting to register factory for plugin cuBLAS when one has already been registered\n"
     ]
    },
    {
     "data": {
      "text/html": [
       "<pre style=\"white-space:pre;overflow-x:auto;line-height:normal;font-family:Menlo,'DejaVu Sans Mono',consolas,'Courier New',monospace\"><span style=\"font-weight: bold\">Model: \"my_model\"</span>\n",
       "</pre>\n"
      ],
      "text/plain": [
       "\u001b[1mModel: \"my_model\"\u001b[0m\n"
      ]
     },
     "metadata": {},
     "output_type": "display_data"
    },
    {
     "data": {
      "text/html": [
       "<pre style=\"white-space:pre;overflow-x:auto;line-height:normal;font-family:Menlo,'DejaVu Sans Mono',consolas,'Courier New',monospace\">┏━━━━━━━━━━━━━━━━━━━━━━━━━━━━━━━━━┳━━━━━━━━━━━━━━━━━━━━━━━━┳━━━━━━━━━━━━━━━┓\n",
       "┃<span style=\"font-weight: bold\"> Layer (type)                    </span>┃<span style=\"font-weight: bold\"> Output Shape           </span>┃<span style=\"font-weight: bold\">       Param # </span>┃\n",
       "┡━━━━━━━━━━━━━━━━━━━━━━━━━━━━━━━━━╇━━━━━━━━━━━━━━━━━━━━━━━━╇━━━━━━━━━━━━━━━┩\n",
       "│ dense (<span style=\"color: #0087ff; text-decoration-color: #0087ff\">Dense</span>)                   │ (<span style=\"color: #00d7ff; text-decoration-color: #00d7ff\">None</span>, <span style=\"color: #00af00; text-decoration-color: #00af00\">50</span>)             │         <span style=\"color: #00af00; text-decoration-color: #00af00\">1,250</span> │\n",
       "├─────────────────────────────────┼────────────────────────┼───────────────┤\n",
       "│ dense_1 (<span style=\"color: #0087ff; text-decoration-color: #0087ff\">Dense</span>)                 │ (<span style=\"color: #00d7ff; text-decoration-color: #00d7ff\">None</span>, <span style=\"color: #00af00; text-decoration-color: #00af00\">10</span>)             │           <span style=\"color: #00af00; text-decoration-color: #00af00\">510</span> │\n",
       "├─────────────────────────────────┼────────────────────────┼───────────────┤\n",
       "│ dense_2 (<span style=\"color: #0087ff; text-decoration-color: #0087ff\">Dense</span>)                 │ (<span style=\"color: #00d7ff; text-decoration-color: #00d7ff\">None</span>, <span style=\"color: #00af00; text-decoration-color: #00af00\">1</span>)              │            <span style=\"color: #00af00; text-decoration-color: #00af00\">11</span> │\n",
       "└─────────────────────────────────┴────────────────────────┴───────────────┘\n",
       "</pre>\n"
      ],
      "text/plain": [
       "┏━━━━━━━━━━━━━━━━━━━━━━━━━━━━━━━━━┳━━━━━━━━━━━━━━━━━━━━━━━━┳━━━━━━━━━━━━━━━┓\n",
       "┃\u001b[1m \u001b[0m\u001b[1mLayer (type)                   \u001b[0m\u001b[1m \u001b[0m┃\u001b[1m \u001b[0m\u001b[1mOutput Shape          \u001b[0m\u001b[1m \u001b[0m┃\u001b[1m \u001b[0m\u001b[1m      Param #\u001b[0m\u001b[1m \u001b[0m┃\n",
       "┡━━━━━━━━━━━━━━━━━━━━━━━━━━━━━━━━━╇━━━━━━━━━━━━━━━━━━━━━━━━╇━━━━━━━━━━━━━━━┩\n",
       "│ dense (\u001b[38;5;33mDense\u001b[0m)                   │ (\u001b[38;5;45mNone\u001b[0m, \u001b[38;5;34m50\u001b[0m)             │         \u001b[38;5;34m1,250\u001b[0m │\n",
       "├─────────────────────────────────┼────────────────────────┼───────────────┤\n",
       "│ dense_1 (\u001b[38;5;33mDense\u001b[0m)                 │ (\u001b[38;5;45mNone\u001b[0m, \u001b[38;5;34m10\u001b[0m)             │           \u001b[38;5;34m510\u001b[0m │\n",
       "├─────────────────────────────────┼────────────────────────┼───────────────┤\n",
       "│ dense_2 (\u001b[38;5;33mDense\u001b[0m)                 │ (\u001b[38;5;45mNone\u001b[0m, \u001b[38;5;34m1\u001b[0m)              │            \u001b[38;5;34m11\u001b[0m │\n",
       "└─────────────────────────────────┴────────────────────────┴───────────────┘\n"
      ]
     },
     "metadata": {},
     "output_type": "display_data"
    },
    {
     "data": {
      "text/html": [
       "<pre style=\"white-space:pre;overflow-x:auto;line-height:normal;font-family:Menlo,'DejaVu Sans Mono',consolas,'Courier New',monospace\"><span style=\"font-weight: bold\"> Total params: </span><span style=\"color: #00af00; text-decoration-color: #00af00\">1,771</span> (6.92 KB)\n",
       "</pre>\n"
      ],
      "text/plain": [
       "\u001b[1m Total params: \u001b[0m\u001b[38;5;34m1,771\u001b[0m (6.92 KB)\n"
      ]
     },
     "metadata": {},
     "output_type": "display_data"
    },
    {
     "data": {
      "text/html": [
       "<pre style=\"white-space:pre;overflow-x:auto;line-height:normal;font-family:Menlo,'DejaVu Sans Mono',consolas,'Courier New',monospace\"><span style=\"font-weight: bold\"> Trainable params: </span><span style=\"color: #00af00; text-decoration-color: #00af00\">1,771</span> (6.92 KB)\n",
       "</pre>\n"
      ],
      "text/plain": [
       "\u001b[1m Trainable params: \u001b[0m\u001b[38;5;34m1,771\u001b[0m (6.92 KB)\n"
      ]
     },
     "metadata": {},
     "output_type": "display_data"
    },
    {
     "data": {
      "text/html": [
       "<pre style=\"white-space:pre;overflow-x:auto;line-height:normal;font-family:Menlo,'DejaVu Sans Mono',consolas,'Courier New',monospace\"><span style=\"font-weight: bold\"> Non-trainable params: </span><span style=\"color: #00af00; text-decoration-color: #00af00\">0</span> (0.00 B)\n",
       "</pre>\n"
      ],
      "text/plain": [
       "\u001b[1m Non-trainable params: \u001b[0m\u001b[38;5;34m0\u001b[0m (0.00 B)\n"
      ]
     },
     "metadata": {},
     "output_type": "display_data"
    },
    {
     "name": "stdout",
     "output_type": "stream",
     "text": [
      "Epoch 1/30\n",
      "\u001b[1m1348/1348\u001b[0m \u001b[32m━━━━━━━━━━━━━━━━━━━━\u001b[0m\u001b[37m\u001b[0m \u001b[1m3s\u001b[0m 1ms/step - loss: 8578767.0000\n",
      "Epoch 2/30\n",
      "\u001b[1m1348/1348\u001b[0m \u001b[32m━━━━━━━━━━━━━━━━━━━━\u001b[0m\u001b[37m\u001b[0m \u001b[1m2s\u001b[0m 1ms/step - loss: 970280.5625\n",
      "Epoch 3/30\n",
      "\u001b[1m1348/1348\u001b[0m \u001b[32m━━━━━━━━━━━━━━━━━━━━\u001b[0m\u001b[37m\u001b[0m \u001b[1m2s\u001b[0m 1ms/step - loss: 710752.8125\n",
      "Epoch 4/30\n",
      "\u001b[1m1348/1348\u001b[0m \u001b[32m━━━━━━━━━━━━━━━━━━━━\u001b[0m\u001b[37m\u001b[0m \u001b[1m2s\u001b[0m 1ms/step - loss: 503734.2812\n",
      "Epoch 5/30\n",
      "\u001b[1m1348/1348\u001b[0m \u001b[32m━━━━━━━━━━━━━━━━━━━━\u001b[0m\u001b[37m\u001b[0m \u001b[1m2s\u001b[0m 1ms/step - loss: 596709.5625\n",
      "Epoch 6/30\n",
      "\u001b[1m1348/1348\u001b[0m \u001b[32m━━━━━━━━━━━━━━━━━━━━\u001b[0m\u001b[37m\u001b[0m \u001b[1m2s\u001b[0m 1ms/step - loss: 494369.5312\n",
      "Epoch 7/30\n",
      "\u001b[1m1348/1348\u001b[0m \u001b[32m━━━━━━━━━━━━━━━━━━━━\u001b[0m\u001b[37m\u001b[0m \u001b[1m2s\u001b[0m 1ms/step - loss: 545856.6875\n",
      "Epoch 8/30\n",
      "\u001b[1m1348/1348\u001b[0m \u001b[32m━━━━━━━━━━━━━━━━━━━━\u001b[0m\u001b[37m\u001b[0m \u001b[1m2s\u001b[0m 1ms/step - loss: 433786.0938\n",
      "Epoch 9/30\n",
      "\u001b[1m1348/1348\u001b[0m \u001b[32m━━━━━━━━━━━━━━━━━━━━\u001b[0m\u001b[37m\u001b[0m \u001b[1m2s\u001b[0m 1ms/step - loss: 430619.2188\n",
      "Epoch 10/30\n",
      "\u001b[1m1348/1348\u001b[0m \u001b[32m━━━━━━━━━━━━━━━━━━━━\u001b[0m\u001b[37m\u001b[0m \u001b[1m2s\u001b[0m 1ms/step - loss: 444165.4688\n",
      "Epoch 11/30\n",
      "\u001b[1m1348/1348\u001b[0m \u001b[32m━━━━━━━━━━━━━━━━━━━━\u001b[0m\u001b[37m\u001b[0m \u001b[1m2s\u001b[0m 1ms/step - loss: 393574.9375\n",
      "Epoch 12/30\n",
      "\u001b[1m1348/1348\u001b[0m \u001b[32m━━━━━━━━━━━━━━━━━━━━\u001b[0m\u001b[37m\u001b[0m \u001b[1m2s\u001b[0m 1ms/step - loss: 375774.2188\n",
      "Epoch 13/30\n",
      "\u001b[1m1348/1348\u001b[0m \u001b[32m━━━━━━━━━━━━━━━━━━━━\u001b[0m\u001b[37m\u001b[0m \u001b[1m2s\u001b[0m 1ms/step - loss: 372295.7188\n",
      "Epoch 14/30\n",
      "\u001b[1m1348/1348\u001b[0m \u001b[32m━━━━━━━━━━━━━━━━━━━━\u001b[0m\u001b[37m\u001b[0m \u001b[1m2s\u001b[0m 1ms/step - loss: 378739.6250\n",
      "Epoch 15/30\n",
      "\u001b[1m1348/1348\u001b[0m \u001b[32m━━━━━━━━━━━━━━━━━━━━\u001b[0m\u001b[37m\u001b[0m \u001b[1m2s\u001b[0m 1ms/step - loss: 352305.2812\n",
      "Epoch 16/30\n",
      "\u001b[1m1348/1348\u001b[0m \u001b[32m━━━━━━━━━━━━━━━━━━━━\u001b[0m\u001b[37m\u001b[0m \u001b[1m2s\u001b[0m 1ms/step - loss: 353004.0938\n",
      "Epoch 17/30\n",
      "\u001b[1m1348/1348\u001b[0m \u001b[32m━━━━━━━━━━━━━━━━━━━━\u001b[0m\u001b[37m\u001b[0m \u001b[1m2s\u001b[0m 1ms/step - loss: 356491.5312\n",
      "Epoch 18/30\n",
      "\u001b[1m1348/1348\u001b[0m \u001b[32m━━━━━━━━━━━━━━━━━━━━\u001b[0m\u001b[37m\u001b[0m \u001b[1m2s\u001b[0m 1ms/step - loss: 347132.8125\n",
      "Epoch 19/30\n",
      "\u001b[1m1348/1348\u001b[0m \u001b[32m━━━━━━━━━━━━━━━━━━━━\u001b[0m\u001b[37m\u001b[0m \u001b[1m2s\u001b[0m 1ms/step - loss: 346616.0000\n",
      "Epoch 20/30\n",
      "\u001b[1m1348/1348\u001b[0m \u001b[32m━━━━━━━━━━━━━━━━━━━━\u001b[0m\u001b[37m\u001b[0m \u001b[1m2s\u001b[0m 1ms/step - loss: 343696.0625\n",
      "Epoch 21/30\n",
      "\u001b[1m1348/1348\u001b[0m \u001b[32m━━━━━━━━━━━━━━━━━━━━\u001b[0m\u001b[37m\u001b[0m \u001b[1m2s\u001b[0m 1ms/step - loss: 344467.1562\n",
      "Epoch 22/30\n",
      "\u001b[1m1348/1348\u001b[0m \u001b[32m━━━━━━━━━━━━━━━━━━━━\u001b[0m\u001b[37m\u001b[0m \u001b[1m2s\u001b[0m 1ms/step - loss: 348912.2812\n",
      "Epoch 23/30\n",
      "\u001b[1m1348/1348\u001b[0m \u001b[32m━━━━━━━━━━━━━━━━━━━━\u001b[0m\u001b[37m\u001b[0m \u001b[1m2s\u001b[0m 1ms/step - loss: 339634.7500\n",
      "Epoch 24/30\n",
      "\u001b[1m1348/1348\u001b[0m \u001b[32m━━━━━━━━━━━━━━━━━━━━\u001b[0m\u001b[37m\u001b[0m \u001b[1m2s\u001b[0m 1ms/step - loss: 342848.9688\n",
      "Epoch 25/30\n",
      "\u001b[1m1348/1348\u001b[0m \u001b[32m━━━━━━━━━━━━━━━━━━━━\u001b[0m\u001b[37m\u001b[0m \u001b[1m2s\u001b[0m 1ms/step - loss: 352122.0625\n",
      "Epoch 26/30\n",
      "\u001b[1m1348/1348\u001b[0m \u001b[32m━━━━━━━━━━━━━━━━━━━━\u001b[0m\u001b[37m\u001b[0m \u001b[1m2s\u001b[0m 1ms/step - loss: 339456.0000\n",
      "Epoch 27/30\n",
      "\u001b[1m1348/1348\u001b[0m \u001b[32m━━━━━━━━━━━━━━━━━━━━\u001b[0m\u001b[37m\u001b[0m \u001b[1m2s\u001b[0m 1ms/step - loss: 348107.5000\n",
      "Epoch 28/30\n",
      "\u001b[1m1348/1348\u001b[0m \u001b[32m━━━━━━━━━━━━━━━━━━━━\u001b[0m\u001b[37m\u001b[0m \u001b[1m2s\u001b[0m 1ms/step - loss: 341018.0625\n",
      "Epoch 29/30\n",
      "\u001b[1m1348/1348\u001b[0m \u001b[32m━━━━━━━━━━━━━━━━━━━━\u001b[0m\u001b[37m\u001b[0m \u001b[1m2s\u001b[0m 1ms/step - loss: 336198.9688\n",
      "Epoch 30/30\n",
      "\u001b[1m1348/1348\u001b[0m \u001b[32m━━━━━━━━━━━━━━━━━━━━\u001b[0m\u001b[37m\u001b[0m \u001b[1m2s\u001b[0m 2ms/step - loss: 337665.7188\n"
     ]
    },
    {
     "data": {
      "text/plain": [
       "<keras.src.callbacks.history.History at 0x7e671df8bd30>"
      ]
     },
     "execution_count": 14,
     "metadata": {},
     "output_type": "execute_result"
    }
   ],
   "source": [
    "import tensorflow as tf\n",
    "from tensorflow.keras.models import Sequential\n",
    "from tensorflow.keras.layers import Dense\n",
    "from tensorflow.keras.activations import linear, relu, sigmoid\n",
    "\n",
    "\n",
    "model = Sequential(\n",
    "    [\n",
    "        tf.keras.Input(shape=(X.shape[1],)),\n",
    "        Dense(50, activation=\"relu\"),\n",
    "        Dense(10, activation=\"relu\"),\n",
    "        Dense(1, activation=\"linear\")\n",
    "    ], name = \"my_model\" \n",
    ")\n",
    "\n",
    "model.compile(loss=tf.keras.losses.MeanSquaredError(), \n",
    "              optimizer=tf.keras.optimizers.Adam(learning_rate=0.01))\n",
    "model.summary()\n",
    "model.fit(X_train, y_train, epochs=30)"
   ]
  },
  {
   "cell_type": "code",
   "execution_count": 15,
   "id": "065cd70c",
   "metadata": {
    "execution": {
     "iopub.execute_input": "2025-03-22T16:50:15.106367Z",
     "iopub.status.busy": "2025-03-22T16:50:15.105552Z",
     "iopub.status.idle": "2025-03-22T16:50:15.809722Z",
     "shell.execute_reply": "2025-03-22T16:50:15.808364Z"
    },
    "papermill": {
     "duration": 0.785957,
     "end_time": "2025-03-22T16:50:15.812321",
     "exception": false,
     "start_time": "2025-03-22T16:50:15.026364",
     "status": "completed"
    },
    "tags": []
   },
   "outputs": [
    {
     "name": "stdout",
     "output_type": "stream",
     "text": [
      "\u001b[1m337/337\u001b[0m \u001b[32m━━━━━━━━━━━━━━━━━━━━\u001b[0m\u001b[37m\u001b[0m \u001b[1m0s\u001b[0m 1ms/step\n",
      "Baseline MSE:\t16008601 (predictions will average +- 4001 from actual)\n",
      "Linear Regression MSE:\t1297542 (predictions will average +- 1139 from actual)\n",
      "Neural Network MSE:\t345088 (predictions will average +- 587 from actual)\n"
     ]
    }
   ],
   "source": [
    "import math\n",
    "\n",
    "y_predictions_nn = model.predict(X_test)\n",
    "\n",
    "\n",
    "baseline_mse = mean_squared_error(y_test, np.repeat(y_test.mean(), len(y_test)))\n",
    "lr_mse = mean_squared_error(y_test, y_predictions)\n",
    "nn_mse = mean_squared_error(y_test, y_predictions_nn)\n",
    "\n",
    "print(f\"Baseline MSE:\\t{baseline_mse:.0f} (predictions will average +- {math.sqrt(baseline_mse):.0f} from actual)\")\n",
    "print(f\"Linear Regression MSE:\\t{lr_mse:.0f} (predictions will average +- {math.sqrt(lr_mse):.0f} from actual)\")\n",
    "print(f\"Neural Network MSE:\\t{nn_mse:.0f} (predictions will average +- {math.sqrt(nn_mse):.0f} from actual)\")"
   ]
  },
  {
   "cell_type": "code",
   "execution_count": 16,
   "id": "0ffd744f",
   "metadata": {
    "execution": {
     "iopub.execute_input": "2025-03-22T16:50:16.028521Z",
     "iopub.status.busy": "2025-03-22T16:50:16.028072Z",
     "iopub.status.idle": "2025-03-22T16:50:16.181845Z",
     "shell.execute_reply": "2025-03-22T16:50:16.179631Z"
    },
    "papermill": {
     "duration": 0.301501,
     "end_time": "2025-03-22T16:50:16.185576",
     "exception": false,
     "start_time": "2025-03-22T16:50:15.884075",
     "status": "completed"
    },
    "tags": []
   },
   "outputs": [
    {
     "name": "stdout",
     "output_type": "stream",
     "text": [
      "Testing random index 26122\n",
      "y: 15395\n",
      "\u001b[1m1/1\u001b[0m \u001b[32m━━━━━━━━━━━━━━━━━━━━\u001b[0m\u001b[37m\u001b[0m \u001b[1m0s\u001b[0m 59ms/step\n",
      "y_predicted: [[14622.873]]\n"
     ]
    },
    {
     "data": {
      "text/plain": [
       "1297541.9468956892"
      ]
     },
     "execution_count": 16,
     "metadata": {},
     "output_type": "execute_result"
    }
   ],
   "source": [
    "test_index = random.randrange(X.shape[0])\n",
    "\n",
    "print(\"Testing random index \" + str(test_index))\n",
    "\n",
    "x_random = scaler.transform(X)[test_index]\n",
    "y_random = y[test_index]\n",
    "\n",
    "print(\"y:\", y_random)\n",
    "print(\"y_predicted:\", model.predict( np.array(x_random).reshape(1, -1)))\n",
    "\n",
    "y_predictions = reg.predict(X_test)\n",
    "mean_squared_error(y_test, y_predictions)"
   ]
  }
 ],
 "metadata": {
  "kaggle": {
   "accelerator": "none",
   "dataSources": [
    {
     "datasetId": 4781139,
     "sourceId": 8097265,
     "sourceType": "datasetVersion"
    }
   ],
   "dockerImageVersionId": 30684,
   "isGpuEnabled": false,
   "isInternetEnabled": false,
   "language": "python",
   "sourceType": "notebook"
  },
  "kernelspec": {
   "display_name": "Python 3",
   "language": "python",
   "name": "python3"
  },
  "language_info": {
   "codemirror_mode": {
    "name": "ipython",
    "version": 3
   },
   "file_extension": ".py",
   "mimetype": "text/x-python",
   "name": "python",
   "nbconvert_exporter": "python",
   "pygments_lexer": "ipython3",
   "version": "3.10.13"
  },
  "papermill": {
   "default_parameters": {},
   "duration": 85.244739,
   "end_time": "2025-03-22T16:50:17.938330",
   "environment_variables": {},
   "exception": null,
   "input_path": "__notebook__.ipynb",
   "output_path": "__notebook__.ipynb",
   "parameters": {},
   "start_time": "2025-03-22T16:48:52.693591",
   "version": "2.5.0"
  }
 },
 "nbformat": 4,
 "nbformat_minor": 5
}
